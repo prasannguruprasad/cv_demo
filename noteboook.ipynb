{
  "cells": [
    {
      "cell_type": "markdown",
      "metadata": {
        "colab_type": "text",
        "id": "view-in-github"
      },
      "source": [
        "<a href=\"https://colab.research.google.com/github/prasannguruprasad/cv_demo/blob/main/noteboook.ipynb\" target=\"_parent\"><img src=\"https://colab.research.google.com/assets/colab-badge.svg\" alt=\"Open In Colab\"/></a>"
      ]
    },
    {
      "cell_type": "code",
      "execution_count": null,
      "metadata": {
        "colab": {
          "base_uri": "https://localhost:8080/"
        },
        "id": "a9lY31Ij4uD5",
        "outputId": "7d98303c-9f1c-48ff-d94c-47fb67d4000e"
      },
      "outputs": [],
      "source": [
        "!git clone https://github.com/prasannguruprasad/cv_demo.git"
      ]
    },
    {
      "cell_type": "code",
      "execution_count": null,
      "metadata": {},
      "outputs": [],
      "source": [
        "cd cv_demo"
      ]
    },
    {
      "cell_type": "code",
      "execution_count": null,
      "metadata": {
        "colab": {
          "base_uri": "https://localhost:8080/"
        },
        "id": "2GHa0nV1-JMu",
        "outputId": "06f3e14e-bbeb-476c-92bd-bea802ce2dbc"
      },
      "outputs": [],
      "source": [
        "# Check to see you are in the correct directory \n",
        "!pwd"
      ]
    },
    {
      "cell_type": "code",
      "execution_count": null,
      "metadata": {
        "colab": {
          "base_uri": "https://localhost:8080/"
        },
        "id": "XNkm6hkFcaCd",
        "outputId": "b76cd54b-87e3-42c1-d1a6-e419683f300b"
      },
      "outputs": [],
      "source": [
        "# This cell installs all required dependencies and may take upto a minute to run \n",
        "!python -m pip install -r requirements.txt"
      ]
    },
    {
      "cell_type": "code",
      "execution_count": null,
      "metadata": {
        "colab": {
          "base_uri": "https://localhost:8080/"
        },
        "id": "lFzTZaxbx3v0",
        "outputId": "0e26388e-0fee-4e91-9661-d034da6aa0e6"
      },
      "outputs": [],
      "source": [
        "!python3 prediction.py --model_path \"/content/cv_demo/demo_attempt_2_KKhm48pcXrkU.h5\" --class_path \"/content/cv_demo/classes.names\" --image_path \"/content/cv_demo/test_images\""
      ]
    },
    {
      "cell_type": "code",
      "execution_count": null,
      "metadata": {
        "id": "MvZ3grvCkYWp"
      },
      "outputs": [],
      "source": []
    }
  ],
  "metadata": {
    "accelerator": "GPU",
    "colab": {
      "authorship_tag": "ABX9TyNfOSGeXPedYCCGOgJA0air",
      "include_colab_link": true,
      "provenance": []
    },
    "kernelspec": {
      "display_name": "Python 3",
      "name": "python3"
    },
    "language_info": {
      "name": "python"
    }
  },
  "nbformat": 4,
  "nbformat_minor": 0
}
